{
 "cells": [
  {
   "cell_type": "code",
   "execution_count": 3,
   "metadata": {},
   "outputs": [],
   "source": [
    "import os\n",
    "os.chdir(r'C:\\Users\\DianaEspinosaLozano\\anaconda3\\envs\\thesis\\Lib\\site-packages\\bslib')\n",
    "import bslib as bsl\n",
    "import pandas as pd\n"
   ]
  },
  {
   "cell_type": "code",
   "execution_count": 4,
   "metadata": {},
   "outputs": [
    {
     "ename": "AttributeError",
     "evalue": "module 'bslib' has no attribute 'DCBatMod'",
     "output_type": "error",
     "traceback": [
      "\u001b[1;31m---------------------------------------------------------------------------\u001b[0m",
      "\u001b[1;31mAttributeError\u001b[0m                            Traceback (most recent call last)",
      "Cell \u001b[1;32mIn[4], line 2\u001b[0m\n\u001b[0;32m      1\u001b[0m \u001b[38;5;66;03m# Example for generic DC Battery\u001b[39;00m\n\u001b[1;32m----> 2\u001b[0m BAT \u001b[38;5;241m=\u001b[39m bsl\u001b[38;5;241m.\u001b[39mDCBatMod(system_id\u001b[38;5;241m=\u001b[39m\u001b[38;5;124m\"\u001b[39m\u001b[38;5;124mS5\u001b[39m\u001b[38;5;124m\"\u001b[39m)\n\u001b[0;32m      3\u001b[0m b \u001b[38;5;241m=\u001b[39m bsl\u001b[38;5;241m.\u001b[39mload_parameters(system_id \u001b[38;5;241m=\u001b[39m\u001b[38;5;124m\"\u001b[39m\u001b[38;5;124mS5\u001b[39m\u001b[38;5;124m\"\u001b[39m)\n\u001b[0;32m      4\u001b[0m b\n",
      "\u001b[1;31mAttributeError\u001b[0m: module 'bslib' has no attribute 'DCBatMod'"
     ]
    }
   ],
   "source": [
    "# Example for generic DC Battery\n",
    "BAT = bsl.DCBatMod(system_id=\"S5\")\n",
    "b = bsl.load_parameters(system_id =\"S5\")\n",
    "b"
   ]
  },
  {
   "cell_type": "code",
   "execution_count": null,
   "metadata": {},
   "outputs": [],
   "source": [
    "# Simulate One Time Step\n",
    "p_load = 750        # W (positive = charging, negative = discharging)\n",
    "results = BAT.simulation(p_load=p_load,\n",
    "                         p_pv = 500, # PV vorhanden für BS\n",
    "                         soc=0.5,\n",
    "                         dt=60)\n",
    "results"
   ]
  },
  {
   "cell_type": "code",
   "execution_count": null,
   "metadata": {},
   "outputs": [],
   "source": [
    "# Simulate Time Series\n",
    "# pv - Eigenverbrauch -> BS, wenn BS voll dann Einspeisung\n",
    "# read elecdemandhourly240723.csv\n",
    "df = pd.read_csv('C:\\\\Users\\\\DianaEspinosaLozano\\\\anaconda3\\\\envs\\\\thesis\\\\elecdemandhourly240723.csv')\n",
    "# p_pv = df['pv']\n",
    "# p_load = df['Eigenverbrauch']\n",
    "\n",
    "# Assuming df is your DataFrame with columns 'p_load' and 'p_pv'\n",
    "initial_soc = 0.5  # Initial state of charge\n",
    "dt = 3600  # Time step, for example, 1 hour\n",
    "\n",
    "soc = initial_soc\n",
    "results = []\n",
    "\n",
    "for _, row in df.iterrows():\n",
    "    result = BAT.simulation(p_load=row['h0_dyn'], p_pv=row['pv'], soc=soc, dt=dt)\n",
    "    soc = result.soc  # Update soc for the next iteration\n",
    "    results.append({'p_pvbs': result.p_pvbs, 'p_bat': result.p_bat, 'soc': soc})\n",
    "\n",
    "# Convert results to a DataFrame\n",
    "df_results = pd.DataFrame(results)\n",
    "df = pd.concat([df, df_results], axis=1)\n",
    "df"
   ]
  },
  {
   "cell_type": "code",
   "execution_count": null,
   "metadata": {},
   "outputs": [],
   "source": [
    "import matplotlib.pyplot as plt\n",
    "df_plot = df[['pv', 'Eigenverbrauch', 'p_pvbs']]\n",
    "ax = df_plot.plot()\n",
    "ax.set_xlabel(\"Date\")\n",
    "ax.set_ylabel(\"Power [kWh]\")\n",
    "plt.show()"
   ]
  },
  {
   "cell_type": "code",
   "execution_count": null,
   "metadata": {},
   "outputs": [],
   "source": [
    "# 1 Tag: 1.1.2016\n",
    "tag = df.loc[0:24, ['pv', 'Eigenverbrauch', 'soc']]\n",
    "tag_plot = tag.plot()\n",
    "tag_plot.set_xlabel('Time (h)')\n",
    "tag_plot.set_ylabel('Power (kWh)')\n",
    "plt.show"
   ]
  },
  {
   "cell_type": "code",
   "execution_count": 9,
   "metadata": {},
   "outputs": [
    {
     "ename": "AttributeError",
     "evalue": "module 'bslib' has no attribute 'ACBatMod'",
     "output_type": "error",
     "traceback": [
      "\u001b[1;31m---------------------------------------------------------------------------\u001b[0m",
      "\u001b[1;31mAttributeError\u001b[0m                            Traceback (most recent call last)",
      "Cell \u001b[1;32mIn[9], line 6\u001b[0m\n\u001b[0;32m      4\u001b[0m p_inv \u001b[38;5;241m=\u001b[39m \u001b[38;5;241m1000\u001b[39m    \u001b[38;5;66;03m# W\u001b[39;00m\n\u001b[0;32m      5\u001b[0m e_bat \u001b[38;5;241m=\u001b[39m \u001b[38;5;241m1\u001b[39m       \u001b[38;5;66;03m# kWh\u001b[39;00m\n\u001b[1;32m----> 6\u001b[0m BATAC \u001b[38;5;241m=\u001b[39m bsl\u001b[38;5;241m.\u001b[39mACBatMod(system_id\u001b[38;5;241m=\u001b[39m\u001b[38;5;124m\"\u001b[39m\u001b[38;5;124mSG1\u001b[39m\u001b[38;5;124m\"\u001b[39m,\n\u001b[0;32m      7\u001b[0m                    p_inv_custom\u001b[38;5;241m=\u001b[39mp_inv,\n\u001b[0;32m      8\u001b[0m                    e_bat_custom\u001b[38;5;241m=\u001b[39me_bat)\n\u001b[0;32m     10\u001b[0m p_load \u001b[38;5;241m=\u001b[39m \u001b[38;5;241m750\u001b[39m        \u001b[38;5;66;03m# W (positive = charging, negative = discharging)\u001b[39;00m\n\u001b[0;32m     11\u001b[0m results \u001b[38;5;241m=\u001b[39m BATAC\u001b[38;5;241m.\u001b[39msimulate(p_load\u001b[38;5;241m=\u001b[39mp_load,\n\u001b[0;32m     12\u001b[0m              soc\u001b[38;5;241m=\u001b[39m\u001b[38;5;241m0.5\u001b[39m,\n\u001b[0;32m     13\u001b[0m              dt\u001b[38;5;241m=\u001b[39m\u001b[38;5;241m60\u001b[39m)\n",
      "\u001b[1;31mAttributeError\u001b[0m: module 'bslib' has no attribute 'ACBatMod'"
     ]
    }
   ],
   "source": [
    "# AC Battery\n",
    "\n",
    "# Example for generic AC Battery\n",
    "p_inv = 1000    # W\n",
    "e_bat = 1       # kWh\n",
    "BATAC = bsl.ACBatMod(system_id=\"SG1\",\n",
    "                   p_inv_custom=p_inv,\n",
    "                   e_bat_custom=e_bat)\n",
    "\n",
    "p_load = 750        # W (positive = charging, negative = discharging)\n",
    "results = BATAC.simulate(p_load=p_load,\n",
    "             soc=0.5,\n",
    "             dt=60)\n",
    "results"
   ]
  },
  {
   "cell_type": "code",
   "execution_count": null,
   "metadata": {},
   "outputs": [],
   "source": [
    "df_ac = pd.read_csv('C:\\\\Users\\\\DianaEspinosaLozano\\\\anaconda3\\\\envs\\\\thesis\\\\elecdemandhourly240723.csv')\n",
    "\n",
    "initial_soc = 0.5  # Initial state of charge\n",
    "dt = 3600  # Time step, for example, 1 hour\n",
    "\n",
    "soc = initial_soc\n",
    "results = []\n",
    "\n",
    "for _, row in df_ac.iterrows():\n",
    "    result = BATAC.simulate(p_load=row['Eigenverbrauch'], p_pv=row['pv'], soc=soc, dt=dt)\n",
    "    soc = result.soc  # Update soc for the next iteration\n",
    "    results.append({'p_pvbs': result.p_pvbs, 'p_bat': result.p_bat, 'soc': soc})\n",
    "\n",
    "# Convert results to a DataFrame\n",
    "df_results = pd.DataFrame(results)\n",
    "df = pd.concat([df, df_results], axis=1)\n",
    "df"
   ]
  }
 ],
 "metadata": {
  "kernelspec": {
   "display_name": "thesis",
   "language": "python",
   "name": "python3"
  },
  "language_info": {
   "codemirror_mode": {
    "name": "ipython",
    "version": 3
   },
   "file_extension": ".py",
   "mimetype": "text/x-python",
   "name": "python",
   "nbconvert_exporter": "python",
   "pygments_lexer": "ipython3",
   "version": "3.12.3"
  }
 },
 "nbformat": 4,
 "nbformat_minor": 2
}
