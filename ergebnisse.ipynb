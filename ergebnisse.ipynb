{
 "cells": [
  {
   "cell_type": "markdown",
   "metadata": {},
   "source": [
    "## Berechnung der Ergebnisse für MA\n",
    "### Ergebnisse pro TRY-Region & Baujahr"
   ]
  },
  {
   "cell_type": "markdown",
   "metadata": {},
   "source": [
    "### 1. Nur PV und BS"
   ]
  },
  {
   "cell_type": "code",
   "execution_count": 2,
   "metadata": {},
   "outputs": [
    {
     "ename": "HTTPError",
     "evalue": "lat: Incorrect value. Please, enter a float between -90 and 90.",
     "output_type": "error",
     "traceback": [
      "\u001b[1;31m---------------------------------------------------------------------------\u001b[0m",
      "\u001b[1;31mHTTPError\u001b[0m                                 Traceback (most recent call last)",
      "Cell \u001b[1;32mIn[2], line 44\u001b[0m\n\u001b[0;32m     42\u001b[0m TRY_region, T_n_aussen \u001b[38;5;241m=\u001b[39m try_region\u001b[38;5;241m.\u001b[39mget_try_t_n_aussen(plz)\n\u001b[0;32m     43\u001b[0m df \u001b[38;5;241m=\u001b[39m lastprofile_VDI4655\u001b[38;5;241m.\u001b[39mget_lastprofile(w, s, twe, flaeche, TRY_region, personen)\n\u001b[1;32m---> 44\u001b[0m pv \u001b[38;5;241m=\u001b[39m pv_profil\u001b[38;5;241m.\u001b[39mget_pv_profil(plz, jahr, kwp)\n\u001b[0;32m     45\u001b[0m df_bs \u001b[38;5;241m=\u001b[39m bs\u001b[38;5;241m.\u001b[39mmit_pv(df\u001b[38;5;241m.\u001b[39mcopy(), pv, kwp, batterie)\n\u001b[0;32m     46\u001b[0m ergebnisse \u001b[38;5;241m=\u001b[39m bs\u001b[38;5;241m.\u001b[39mersparnis(df_bs, kwp, strompreis)\n",
      "File \u001b[1;32mc:\\Users\\n-w\\OneDrive\\Desktop\\thesis_del\\hemsrechner\\pv_profil.py:14\u001b[0m, in \u001b[0;36mget_pv_profil\u001b[1;34m(plz, jahr, anlage_groesse)\u001b[0m\n\u001b[0;32m     10\u001b[0m longitude \u001b[38;5;241m=\u001b[39m a[\u001b[38;5;124m'\u001b[39m\u001b[38;5;124mlongitude\u001b[39m\u001b[38;5;124m'\u001b[39m]\n\u001b[0;32m     12\u001b[0m \u001b[38;5;66;03m## PV Jahresprofil \u001b[39;00m\n\u001b[0;32m     13\u001b[0m \u001b[38;5;66;03m# Get hourly solar irradiation and modeled PV power output from PVGIS\u001b[39;00m\n\u001b[1;32m---> 14\u001b[0m data, meta, inputs \u001b[38;5;241m=\u001b[39m pvlib\u001b[38;5;241m.\u001b[39miotools\u001b[38;5;241m.\u001b[39mget_pvgis_hourly(latitude, longitude, start\u001b[38;5;241m=\u001b[39mjahr, end\u001b[38;5;241m=\u001b[39mjahr, surface_tilt\u001b[38;5;241m=\u001b[39m\u001b[38;5;241m35\u001b[39m,\n\u001b[0;32m     15\u001b[0m                                                     pvcalculation\u001b[38;5;241m=\u001b[39m\u001b[38;5;28;01mTrue\u001b[39;00m, peakpower\u001b[38;5;241m=\u001b[39manlage_groesse, mountingplace\u001b[38;5;241m=\u001b[39m\u001b[38;5;124m'\u001b[39m\u001b[38;5;124mbuilding\u001b[39m\u001b[38;5;124m'\u001b[39m)  \n\u001b[0;32m     16\u001b[0m pv_ertrag \u001b[38;5;241m=\u001b[39m data[\u001b[38;5;124m'\u001b[39m\u001b[38;5;124mP\u001b[39m\u001b[38;5;124m'\u001b[39m]\n\u001b[0;32m     17\u001b[0m pv_ertrag \u001b[38;5;241m=\u001b[39m pv_ertrag\u001b[38;5;241m.\u001b[39mresample(\u001b[38;5;124m'\u001b[39m\u001b[38;5;124mh\u001b[39m\u001b[38;5;124m'\u001b[39m)\u001b[38;5;241m.\u001b[39msum() \u001b[38;5;241m/\u001b[39m \u001b[38;5;241m1000\u001b[39m \u001b[38;5;66;03m# in Stunden und kW\u001b[39;00m\n",
      "File \u001b[1;32mc:\\Users\\n-w\\anaconda3\\envs\\thesis_venv\\Lib\\site-packages\\pvlib\\iotools\\pvgis.py:237\u001b[0m, in \u001b[0;36mget_pvgis_hourly\u001b[1;34m(latitude, longitude, start, end, raddatabase, components, surface_tilt, surface_azimuth, outputformat, usehorizon, userhorizon, pvcalculation, peakpower, pvtechchoice, mountingplace, loss, trackingtype, optimal_surface_tilt, optimalangles, url, map_variables, timeout)\u001b[0m\n\u001b[0;32m    235\u001b[0m         res\u001b[38;5;241m.\u001b[39mraise_for_status()\n\u001b[0;32m    236\u001b[0m     \u001b[38;5;28;01melse\u001b[39;00m:\n\u001b[1;32m--> 237\u001b[0m         \u001b[38;5;28;01mraise\u001b[39;00m requests\u001b[38;5;241m.\u001b[39mHTTPError(err_msg[\u001b[38;5;124m'\u001b[39m\u001b[38;5;124mmessage\u001b[39m\u001b[38;5;124m'\u001b[39m])\n\u001b[0;32m    239\u001b[0m \u001b[38;5;28;01mreturn\u001b[39;00m read_pvgis_hourly(io\u001b[38;5;241m.\u001b[39mStringIO(res\u001b[38;5;241m.\u001b[39mtext), pvgis_format\u001b[38;5;241m=\u001b[39moutputformat,\n\u001b[0;32m    240\u001b[0m                          map_variables\u001b[38;5;241m=\u001b[39mmap_variables)\n",
      "\u001b[1;31mHTTPError\u001b[0m: lat: Incorrect value. Please, enter a float between -90 and 90."
     ]
    }
   ],
   "source": [
    "import pandas as pd\n",
    "import importlib\n",
    "import pv_profil, lastprofile_VDI4655, try_region, berechnen_bs as bs\n",
    "\n",
    "# Eingaben\n",
    "baujahr_tabelle = pd.read_excel('./Inputs/waermebedarf.xlsx')\n",
    "baujahr_tabelle.set_index('Baujahr', inplace=True)\n",
    "\n",
    "data = [\n",
    "    {'PLZ': 27568, 'Ort': 'Bremerhaven'},\n",
    "    {'PLZ': 18055, 'Ort': 'Rostock'},\n",
    "    {'PLZ': 20095, 'Ort': 'Hamburg'},\n",
    "    {'PLZ': 14467, 'Ort': 'Potsdam'},\n",
    "    {'PLZ': 45127, 'Ort': 'Essen'},\n",
    "    {'PLZ': 56470, 'Ort': 'Bad Marienberg'},\n",
    "    {'PLZ': 34117, 'Ort': 'Kassel'},\n",
    "    {'PLZ': 38700, 'Ort': 'Braunlage'},\n",
    "    {'PLZ': 9116, 'Ort': 'Chemnitz'},\n",
    "    {'PLZ': 95028, 'Ort': 'Hof'},\n",
    "    {'PLZ': 95485, 'Ort': 'Fichtelberg'},\n",
    "    {'PLZ': 68159, 'Ort': 'Mannheim'},\n",
    "    {'PLZ': 94032, 'Ort': 'Passau'},\n",
    "    {'PLZ': 87675, 'Ort': 'Stötten'},\n",
    "    {'PLZ': 82470, 'Ort': 'Garmisch-Partenkirchen'},\n",
    "]\n",
    "plz_tabelle = pd.DataFrame(data)\n",
    "plz_tabelle.set_index('PLZ', inplace = True)\n",
    "\n",
    "flaeche = 200\n",
    "personen = 3\n",
    "strombedarf = 0\n",
    "jahr = 2014\n",
    "kwp = 10\n",
    "batterie = 10\n",
    "strompreis = 0.358\n",
    "\n",
    "ergebnisse = {}\n",
    "\n",
    "for baujahr in baujahr_tabelle.index:\n",
    "    for plz in plz_tabelle.index:\n",
    "        h, w, twe, s = lastprofile_VDI4655.get_jahresenergiebedarf(baujahr, flaeche, personen, strombedarf)\n",
    "        TRY_region, T_n_aussen = try_region.get_try_t_n_aussen(plz)\n",
    "        df = lastprofile_VDI4655.get_lastprofile(w, s, twe, flaeche, TRY_region, personen)\n",
    "        pv = pv_profil.get_pv_profil(plz, jahr, kwp)\n",
    "        df_bs = bs.mit_pv(df.copy(), pv, kwp, batterie)\n",
    "        ergebnisse = bs.ersparnis(df_bs, kwp, strompreis)\n",
    "        \n",
    "        key = f\"ergebnisse_{baujahr}_{plz}\"\n",
    "        ergebnisse[key] = ergebnisse\n",
    "\n",
    "\n",
    "\n"
   ]
  }
 ],
 "metadata": {
  "kernelspec": {
   "display_name": "thesis_venv",
   "language": "python",
   "name": "python3"
  },
  "language_info": {
   "codemirror_mode": {
    "name": "ipython",
    "version": 3
   },
   "file_extension": ".py",
   "mimetype": "text/x-python",
   "name": "python",
   "nbconvert_exporter": "python",
   "pygments_lexer": "ipython3",
   "version": "3.12.3"
  }
 },
 "nbformat": 4,
 "nbformat_minor": 2
}
