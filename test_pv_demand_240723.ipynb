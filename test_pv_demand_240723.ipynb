{
 "cells": [
  {
   "cell_type": "code",
   "execution_count": null,
   "metadata": {},
   "outputs": [],
   "source": [
    "\n",
    "# For pvlib\n",
    "import pvlib\n",
    "import pandas as pd # 'as pd' to change alias from pandas to pd\n",
    "import matplotlib.pyplot as plt\n",
    "import pgeocode\n",
    "\n",
    "# For demandlib\n",
    "import datetime\n",
    "from datetime import time as settime\n",
    "import numpy as np\n",
    "from demandlib import bdew\n",
    "import demandlib.bdew as bdew\n",
    "import demandlib.particular_profiles as profiles\n",
    "from workalendar.europe import Germany\n",
    "\n",
    "# Input\n",
    "plz = 40599\n",
    "anlage_groesse = 10 \n",
    "strom_bedarf = 4000\n",
    "waerme_bedarf = 20000\n",
    "\n",
    "# Standort\n",
    "nomi = pgeocode.Nominatim('de') \n",
    "a = nomi.query_postal_code(plz)\n",
    "latitude = a['latitude']\n",
    "longitude = a['longitude']\n",
    "\n",
    "# Get hourly solar irradiation and modeled PV power output from PVGIS\n",
    "data, meta, inputs = pvlib.iotools.get_pvgis_hourly(latitude, longitude, start=2016, end=2016, surface_tilt=35,\n",
    "                                                    pvcalculation=True, peakpower=anlage_groesse, mountingplace='building', loss = 0)  \n",
    "\n",
    "data.info()"
   ]
  },
  {
   "cell_type": "code",
   "execution_count": null,
   "metadata": {},
   "outputs": [],
   "source": [
    "\n",
    "# 'time' is the index! not part of the df, not a column\n",
    "# # type(data['time'])"
   ]
  },
  {
   "cell_type": "code",
   "execution_count": null,
   "metadata": {},
   "outputs": [],
   "source": [
    "data"
   ]
  },
  {
   "cell_type": "code",
   "execution_count": null,
   "metadata": {},
   "outputs": [],
   "source": [
    "data['temp_air']"
   ]
  },
  {
   "cell_type": "code",
   "execution_count": null,
   "metadata": {},
   "outputs": [],
   "source": [
    "data.info(datetime)"
   ]
  },
  {
   "cell_type": "code",
   "execution_count": null,
   "metadata": {},
   "outputs": [],
   "source": [
    "len(data)"
   ]
  }
 ],
 "metadata": {
  "kernelspec": {
   "display_name": "thesis",
   "language": "python",
   "name": "python3"
  },
  "language_info": {
   "codemirror_mode": {
    "name": "ipython",
    "version": 3
   },
   "file_extension": ".py",
   "mimetype": "text/x-python",
   "name": "python",
   "nbconvert_exporter": "python",
   "pygments_lexer": "ipython3",
   "version": "3.12.3"
  }
 },
 "nbformat": 4,
 "nbformat_minor": 2
}
