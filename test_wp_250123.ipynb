{
 "cells": [
  {
   "cell_type": "code",
   "execution_count": 2,
   "metadata": {},
   "outputs": [
    {
     "name": "stderr",
     "output_type": "stream",
     "text": [
      "FutureWarning: 'H' is deprecated and will be removed in a future version, please use 'h' instead.\n",
      "FutureWarning: Downcasting behavior in `replace` is deprecated and will be removed in a future version. To retain the old behavior, explicitly call `result.infer_objects(copy=False)`. To opt-in to the future behavior, set `pd.set_option('future.no_silent_downcasting', True)`\n",
      "FutureWarning: A value is trying to be set on a copy of a DataFrame or Series through chained assignment using an inplace method.\n",
      "The behavior will change in pandas 3.0. This inplace method will never work because the intermediate object on which we are setting values always behaves as a copy.\n",
      "\n",
      "For example, when doing 'df[col].method(value, inplace=True)', try using 'df.method({col: value}, inplace=True)' or df[col] = df[col].method(value) instead, to perform the operation inplace on the original object.\n",
      "\n",
      "\n"
     ]
    }
   ],
   "source": [
    "import pandas as pd\n",
    "import importlib\n",
    "import berechnen_wp, pv_profil, lastprofile_VDI4655, temperatur_aussen, try_region, heizkurve\n",
    "importlib.reload(berechnen_wp)\n",
    "\n",
    "h, w, twe, s = lastprofile_VDI4655.get_jahresenergiebedarf('1984 - 1994', 200, 3, 0)\n",
    "TRY_region, T_n_aussen = try_region.get_try_t_n_aussen(40599)\n",
    "df = lastprofile_VDI4655.get_lastprofile(w, s, twe, 200, TRY_region, 3)\n",
    "df['T_aussen'] = temperatur_aussen.get_hourly_temperature(40599, 2014)\n",
    "hz, T_soll, T_n_vor, T_n_rueck = heizkurve.get_heizkurve('Heizkörper', df['T_aussen'], T_n_aussen)\n",
    "df['T_vor'] = hz['T_vor']\n",
    "df['T_rueck'] = hz['T_rueck']\n",
    "wp_groesse = berechnen_wp.get_waermepumpe(h)\n",
    "heizleistung_auslegung = heizkurve.get_heizleistung(T_n_aussen, h, T_soll)\n",
    "df = heizkurve.get_heizleistung_profil(df, heizleistung_auslegung)\n",
    "df = heizkurve.get_cop(wp_groesse, df)\n",
    "V_ps, PS_verlust, Q_ps = berechnen_wp.get_pufferspeicher(h, T_n_vor, T_n_rueck)\n",
    "df, P_el, COP = berechnen_wp.ohne_pv(df, Q_ps, PS_verlust)\n",
    "pv = pv_profil.get_pv_profil(40599, 2014, 10)\n",
    "df_pv = berechnen_wp.mit_pv(df.copy(), pv)\n",
    "df_pvbs = berechnen_wp.mit_pvbs(df.copy(), pv, 10, 11)"
   ]
  },
  {
   "cell_type": "code",
   "execution_count": 3,
   "metadata": {},
   "outputs": [
    {
     "name": "stdout",
     "output_type": "stream",
     "text": [
      "Haushaltsstrombedarf in kWh: 4980\n",
      "Wärmepumpe Strombedarf in kWh: 6634\n",
      "Jahresertrag in kWh: 11282\n",
      "Eigenverbrauch in kWh: 3676\n",
      "Geladene PV-Strom in Wärmepumpe in kWh: 1714\n",
      "\n",
      "Netzbezug in kWh: 6224\n",
      "Einspeisung ins Netz in kWh: 7606\n",
      "\n",
      "Stromkosten ohne PV in €/a: 4157.82\n",
      "Stromkosten mit PV in €/a: 2228.19\n",
      "Einspeisevergütung in €/a: 605.44\n",
      "Stromkosten Einsparung in €/a: 2535.07\n"
     ]
    }
   ],
   "source": [
    "importlib.reload(berechnen_wp)\n",
    "strompreis = 0.358\n",
    "ergebnisse_pv = berechnen_wp.ersparnis_pv(df_pv, 10, strompreis)\n",
    "berechnen_wp.print_ersparnis(ergebnisse_pv)"
   ]
  },
  {
   "cell_type": "code",
   "execution_count": 4,
   "metadata": {},
   "outputs": [
    {
     "name": "stdout",
     "output_type": "stream",
     "text": [
      "Haushaltsstrombedarf in kWh: 4980\n",
      "Wärmepumpe Strombedarf in kWh: 6634\n",
      "Jahresertrag in kWh: 11282\n",
      "Eigenverbrauch in kWh: 5390\n",
      "Geladene PV-Strom in Wärmepumpe in kWh: 2135\n",
      "Geladene PV-Strom in Batteriespeicher in kWh: 2098\n",
      "Geladene BS-Strom in Wärmepumoe in kWh: 591\n",
      "\n",
      "Netzbezug in kWh: 5920\n",
      "Einspeisung ins Netz in kWh: 5421\n",
      "\n",
      "Stromkosten ohne PV in €/a: 4157.82\n",
      "Stromkosten mit PV & BS in €/a: 2119.36\n",
      "Einspeisevergütung in €/a: 431.51\n",
      "Stromkosten Einsparung in €/a: 2469.97\n"
     ]
    }
   ],
   "source": [
    "importlib.reload(berechnen_wp)\n",
    "ergebnisse_bs = berechnen_wp.ersparnis_bs(df_pvbs, 10, strompreis)\n",
    "berechnen_wp.print_ersparnis(ergebnisse_bs)"
   ]
  },
  {
   "cell_type": "code",
   "execution_count": 5,
   "metadata": {},
   "outputs": [],
   "source": [
    "importlib.reload(berechnen_wp)\n",
    "df_ev = berechnen_wp.mit_pvev(df.copy(), pv, True)"
   ]
  },
  {
   "cell_type": "code",
   "execution_count": 11,
   "metadata": {},
   "outputs": [],
   "source": [
    "importlib.reload(berechnen_wp)\n",
    "df_pvbsev = berechnen_wp.mit_pvbsev(df.copy(), pv, 10, 11, True)"
   ]
  },
  {
   "cell_type": "code",
   "execution_count": 12,
   "metadata": {},
   "outputs": [
    {
     "name": "stdout",
     "output_type": "stream",
     "text": [
      "Indizes mit negativem Überschuss:\n",
      "DatetimeIndex([], dtype='datetime64[ns]', name='Zeit', freq='h')\n"
     ]
    }
   ],
   "source": [
    "# Finden der Indizes, wo der Wert in df['überschuss'] negativ ist\n",
    "negative_indices = df_pvbsev[df_pvbsev['überschuss'] < 0].index\n",
    "\n",
    "# Ausgabe der Indizes\n",
    "print(\"Indizes mit negativem Überschuss:\")\n",
    "print(negative_indices)"
   ]
  },
  {
   "cell_type": "code",
   "execution_count": 14,
   "metadata": {},
   "outputs": [
    {
     "name": "stdout",
     "output_type": "stream",
     "text": [
      "Index 2014-01-18 09:00:00 - Eingabewerte:\n",
      "pv_ertrag: 3.5189, strombedarf: 0.2641600214825872, p_el_wp: 1.8948212235445725, charge_to_battery: 1.3055220047739267\n",
      "Nach Strombedarf: eigenverbrauch_str = 0.2641600214825872, ueberschuss = 3.2547399785174127\n",
      "Nach WP: eigenverbrauch_wp = 1.8948212235445725, ueberschuss = 1.3599187549728402\n",
      "Nach Batterie: eigenverbrauch_battery = 1.3599187549728404, ueberschuss = -2.220446049250313e-16\n",
      "Gesamter Eigenverbrauch: 3.5189000000000004\n"
     ]
    }
   ],
   "source": [
    "# Gebe den Index der gewünschten Zeile an\n",
    "i = '2014-01-18 09:00:00'  # Beispiel: Zeile mit Index 10\n",
    "row = df_pvbsev.loc[i]  # Hole die Zeile als Series\n",
    "\n",
    "# Hole die Werte aus der Zeile\n",
    "pv_ertrag = row['PV Ertrag']\n",
    "strombedarf = row['Strombedarf']\n",
    "p_el_wp = row['elekt. Leistungaufnahme']\n",
    "charge_to_battery = row['battery_charge'] if 'battery_charge' in row else 0\n",
    "charge_efficiency = 0.96  # Beispielwert\n",
    "max_soc = 11  # Maximale Speicherkapazität der Batterie in kWh\n",
    "battery_soc = row['battery_soc'] if 'battery_soc' in row else 5  # Initialwert der Batterie\n",
    "\n",
    "# Debugging-Berechnung für diese Zeile\n",
    "eigenverbrauch_str = 0\n",
    "eigenverbrauch_wp = 0\n",
    "eigenverbrauch_battery = 0\n",
    "ueberschuss = 0\n",
    "\n",
    "# Debug: Eingabewerte anzeigen\n",
    "print(f\"Index {i} - Eingabewerte:\")\n",
    "print(f\"pv_ertrag: {pv_ertrag}, strombedarf: {strombedarf}, p_el_wp: {p_el_wp}, charge_to_battery: {charge_to_battery}\")\n",
    "\n",
    "# Step 1: Eigenverbrauch für Strombedarf (Prio 1)\n",
    "if pv_ertrag >= strombedarf:\n",
    "    eigenverbrauch_str = strombedarf\n",
    "    ueberschuss = pv_ertrag - strombedarf\n",
    "else:\n",
    "    eigenverbrauch_str = pv_ertrag\n",
    "    ueberschuss = 0\n",
    "\n",
    "print(f\"Nach Strombedarf: eigenverbrauch_str = {eigenverbrauch_str}, ueberschuss = {ueberschuss}\")\n",
    "\n",
    "# Step 2: Eigenverbrauch für WP (Prio 2)\n",
    "if ueberschuss > 0 and p_el_wp > 0:\n",
    "    if ueberschuss >= p_el_wp:\n",
    "        eigenverbrauch_wp = p_el_wp\n",
    "        ueberschuss -= p_el_wp\n",
    "    else:\n",
    "        eigenverbrauch_wp = ueberschuss\n",
    "        ueberschuss = 0\n",
    "\n",
    "print(f\"Nach WP: eigenverbrauch_wp = {eigenverbrauch_wp}, ueberschuss = {ueberschuss}\")\n",
    "\n",
    "# Step 3: Eigenverbrauch für Batterie (Prio 3)\n",
    "if ueberschuss > 0:\n",
    "    charge_potential = ueberschuss * charge_efficiency\n",
    "    charge_to_battery = min(charge_potential, max_soc - battery_soc)\n",
    "    eigenverbrauch_battery = charge_to_battery / charge_efficiency\n",
    "    ueberschuss -= eigenverbrauch_battery\n",
    "\n",
    "print(f\"Nach Batterie: eigenverbrauch_battery = {eigenverbrauch_battery}, ueberschuss = {ueberschuss}\")\n",
    "\n",
    "# Gesamter Eigenverbrauch\n",
    "eigenverbrauch = eigenverbrauch_str + eigenverbrauch_wp + eigenverbrauch_battery\n",
    "\n",
    "print(f\"Gesamter Eigenverbrauch: {eigenverbrauch}\")\n"
   ]
  }
 ],
 "metadata": {
  "kernelspec": {
   "display_name": "thesis_venv",
   "language": "python",
   "name": "python3"
  },
  "language_info": {
   "codemirror_mode": {
    "name": "ipython",
    "version": 3
   },
   "file_extension": ".py",
   "mimetype": "text/x-python",
   "name": "python",
   "nbconvert_exporter": "python",
   "pygments_lexer": "ipython3",
   "version": "3.12.3"
  }
 },
 "nbformat": 4,
 "nbformat_minor": 2
}
