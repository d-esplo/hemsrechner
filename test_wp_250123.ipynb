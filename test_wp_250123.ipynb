{
 "cells": [
  {
   "cell_type": "code",
   "execution_count": 1,
   "metadata": {},
   "outputs": [
    {
     "name": "stderr",
     "output_type": "stream",
     "text": [
      "FutureWarning: 'H' is deprecated and will be removed in a future version, please use 'h' instead.\n",
      "FutureWarning: Downcasting behavior in `replace` is deprecated and will be removed in a future version. To retain the old behavior, explicitly call `result.infer_objects(copy=False)`. To opt-in to the future behavior, set `pd.set_option('future.no_silent_downcasting', True)`\n",
      "FutureWarning: A value is trying to be set on a copy of a DataFrame or Series through chained assignment using an inplace method.\n",
      "The behavior will change in pandas 3.0. This inplace method will never work because the intermediate object on which we are setting values always behaves as a copy.\n",
      "\n",
      "For example, when doing 'df[col].method(value, inplace=True)', try using 'df.method({col: value}, inplace=True)' or df[col] = df[col].method(value) instead, to perform the operation inplace on the original object.\n",
      "\n",
      "\n"
     ]
    }
   ],
   "source": [
    "import pandas as pd\n",
    "import importlib\n",
    "import berechnen_wp, pv_profil, lastprofile_VDI4655, temperatur_aussen, try_region, heizkurve\n",
    "importlib.reload(berechnen_wp)\n",
    "\n",
    "h, w, twe, s = lastprofile_VDI4655.get_jahresenergiebedarf('1984 - 1994', 200, 3, 0)\n",
    "TRY_region, T_n_aussen = try_region.get_try_t_n_aussen(40599)\n",
    "df = lastprofile_VDI4655.get_lastprofile(w, s, twe, 200, TRY_region, 3)\n",
    "df['T_aussen'] = temperatur_aussen.get_hourly_temperature(40599, 2014)\n",
    "hz, T_soll, T_n_vor, T_n_rueck = heizkurve.get_heizkurve('Heizkörper', df['T_aussen'], T_n_aussen)\n",
    "df['T_vor'] = hz['T_vor']\n",
    "df['T_rueck'] = hz['T_rueck']\n",
    "wp_groesse = berechnen_wp.get_waermepumpe(h)\n",
    "heizleistung_auslegung = heizkurve.get_heizleistung(T_n_aussen, h, T_soll)\n",
    "df = heizkurve.get_heizleistung_profil(df, heizleistung_auslegung)\n",
    "df = heizkurve.get_cop(wp_groesse, df)\n",
    "V_ps, PS_verlust, Q_ps = berechnen_wp.get_pufferspeicher(h, T_n_vor, T_n_rueck)\n",
    "df, P_el, COP = berechnen_wp.ohne_pv(df, Q_ps, PS_verlust)\n",
    "pv = pv_profil.get_pv_profil(40599, 2014, 10)\n",
    "df_pv = berechnen_wp.mit_pv(df.copy(), pv)\n",
    "df_pvbs = berechnen_wp.mit_pvbs(df.copy(), pv, 10, 11)"
   ]
  },
  {
   "cell_type": "code",
   "execution_count": 2,
   "metadata": {},
   "outputs": [
    {
     "name": "stdout",
     "output_type": "stream",
     "text": [
      "Haushaltsstrombedarf in kWh: 4980\n",
      "Wärmepumpe Strombedarf in kWh: 6634\n",
      "Jahresertrag in kWh: 11282\n",
      "Eigenverbrauch in kWh: 3676\n",
      "Geladene PV-Strom in Wärmepumpe in kWh: 1714\n",
      "\n",
      "Netzbezug in kWh: 6224\n",
      "Einspeisung ins Netz in kWh: 7606\n",
      "\n",
      "Stromkosten ohne PV in €/a: 4157.82\n",
      "Stromkosten mit PV in €/a: 2228.19\n",
      "Einspeisevergütung in €/a: 605.44\n",
      "Stromkosten Einsparung in €/a: 2535.07\n"
     ]
    }
   ],
   "source": [
    "importlib.reload(berechnen_wp)\n",
    "strompreis = 0.358\n",
    "ergebnisse_pv = berechnen_wp.ersparnis_pv(df_pv, 10, strompreis)\n",
    "berechnen_wp.print_ersparnis(ergebnisse_pv)"
   ]
  },
  {
   "cell_type": "code",
   "execution_count": 3,
   "metadata": {},
   "outputs": [
    {
     "name": "stdout",
     "output_type": "stream",
     "text": [
      "Haushaltsstrombedarf in kWh: 4980\n",
      "Wärmepumpe Strombedarf in kWh: 6634\n",
      "Jahresertrag in kWh: 11282\n",
      "Eigenverbrauch in kWh: 5390\n",
      "Geladene PV-Strom in Wärmepumpe in kWh: 2135\n",
      "Geladene PV-Strom in Batteriespeicher in kWh: 2098\n",
      "Geladene BS-Strom in Wärmepumoe in kWh: 591\n",
      "\n",
      "Netzbezug in kWh: 5920\n",
      "Einspeisung ins Netz in kWh: 5421\n",
      "\n",
      "Stromkosten ohne PV in €/a: 4157.82\n",
      "Stromkosten mit PV & BS in €/a: 2119.36\n",
      "Einspeisevergütung in €/a: 431.51\n",
      "Stromkosten Einsparung in €/a: 2469.97\n"
     ]
    }
   ],
   "source": [
    "importlib.reload(berechnen_wp)\n",
    "ergebnisse_bs = berechnen_wp.ersparnis_bs(df_pvbs, 10, strompreis)\n",
    "berechnen_wp.print_ersparnis(ergebnisse_bs)"
   ]
  },
  {
   "cell_type": "code",
   "execution_count": 4,
   "metadata": {},
   "outputs": [],
   "source": [
    "importlib.reload(berechnen_wp)\n",
    "df_ev = berechnen_wp.mit_pvev(df.copy(), pv, True)"
   ]
  }
 ],
 "metadata": {
  "kernelspec": {
   "display_name": "thesis_venv",
   "language": "python",
   "name": "python3"
  },
  "language_info": {
   "codemirror_mode": {
    "name": "ipython",
    "version": 3
   },
   "file_extension": ".py",
   "mimetype": "text/x-python",
   "name": "python",
   "nbconvert_exporter": "python",
   "pygments_lexer": "ipython3",
   "version": "3.12.3"
  }
 },
 "nbformat": 4,
 "nbformat_minor": 2
}
