{
 "cells": [
  {
   "cell_type": "markdown",
   "metadata": {},
   "source": [
    "### Vergleich mit Wegahome\n",
    "#### Gemessene Daten von 3 Kunden, Standorten: Essen, Bochum und Leverkusen"
   ]
  },
  {
   "cell_type": "code",
   "execution_count": 1,
   "metadata": {},
   "outputs": [],
   "source": [
    "import pandas as pd\n",
    "\n",
    "csv_essen = pd.read_csv('./Essen_2024.csv')\n",
    "# Konvertiere die 'measuredAt'-Spalte in ein datetime-Format\n",
    "csv_essen['measuredAt'] = pd.to_datetime(csv_essen['measuredAt'])\n",
    "csv_essen.set_index('measuredAt', inplace=True)\n",
    "\n",
    "df_essen = csv_essen.resample('1h').mean()\n",
    "teilen = ['PV (Wh)', 'Gesamte Netzeinspeisung (Wh)', 'Gesamter Netzbezug (Wh)', 'Batterieladung (Wh)', 'EV (Wh)', 'Haushalt (Wh)', 'Verbrauch (Wh)', 'Wärmepumpe (Wh)']  \n"
   ]
  },
  {
   "cell_type": "code",
   "execution_count": 2,
   "metadata": {},
   "outputs": [],
   "source": [
    "# Summe in kW\n",
    "pv_ertrag= round(df_essen['PV (Wh)'].fillna(0).astype(float).sum() / 1000, 2)\n",
    "einspeisung = round(df_essen['Gesamte Netzeinspeisung (Wh)'].fillna(0).astype(float).sum() / 1000, 2)\n",
    "netzbezug = round(df_essen['Gesamter Netzbezug (Wh)'].fillna(0).astype(float).sum() / 1000, 2)\n",
    "strombedarf = round(df_essen['Haushalt (Wh)'].fillna(0).astype(float).sum() / 1000, 2)\n",
    "wp_strom = round(df_essen['Wärmepumpe (Wh)'].fillna(0).astype(float).sum() / 1000, 2)\n",
    "bs_strom = round(df_essen['Batterieladung (Wh)'].fillna(0).astype(float).sum() / 1000, 2)\n",
    "ev_strom = round(df_essen['EV (Wh)'].fillna(0).astype(float).sum() / 1000, 2)\n",
    "verbrauch = round(df_essen['Verbrauch (Wh)'].fillna(0).astype(float).sum() / 1000, 2)"
   ]
  },
  {
   "cell_type": "markdown",
   "metadata": {},
   "source": [
    "### Simulation mit HEMS-Rechner"
   ]
  },
  {
   "cell_type": "code",
   "execution_count": 3,
   "metadata": {},
   "outputs": [],
   "source": [
    "# Haus ähnlich zu Essen simulieren\n",
    "plz = 45257\n",
    "anlage_groesse = 7.6\n",
    "battery_capacity = 10.2\n",
    "heizlast = 7 # eigetlich WP-Größe\n",
    "homeoffice = True\n",
    "flaeche = 100\n",
    "anzahl_personen = 1\n",
    "strompreis = 0.358"
   ]
  },
  {
   "cell_type": "code",
   "execution_count": 4,
   "metadata": {},
   "outputs": [
    {
     "name": "stderr",
     "output_type": "stream",
     "text": [
      "FutureWarning: 'H' is deprecated and will be removed in a future version, please use 'h' instead.\n"
     ]
    }
   ],
   "source": [
    "import berechnen_wp, pv_profil, lastprofile_VDI4655, temperatur_aussen, try_region, heizkurve\n",
    "\n",
    "h, w, twe, s = lastprofile_VDI4655.get_jahresenergiebedarf('1984 - 1994', flaeche, anzahl_personen, 0)\n",
    "TRY_region, T_n_aussen = try_region.get_try_t_n_aussen(plz)\n",
    "df = lastprofile_VDI4655.get_lastprofile(w, s, twe, flaeche, TRY_region, 2)\n",
    "df['T_aussen'] = temperatur_aussen.get_hourly_temperature(plz, 2014)\n",
    "hz, T_soll, T_n_vor, T_n_rueck = heizkurve.get_heizkurve('Heizkörper', df['T_aussen'], T_n_aussen)\n",
    "df['T_vor'] = hz['T_vor']\n",
    "wp_groesse, wp_modell = berechnen_wp.get_waermepumpe(h)\n",
    "heizleistung_auslegung = heizkurve.get_heizleistung(T_n_aussen, h, T_soll)\n",
    "df = heizkurve.get_cop(wp_groesse, df)\n",
    "V_ps, PS_verlust, Q_ps, Q_ps_max, Q_ps_ueber = berechnen_wp.get_pufferspeicher(h, T_n_vor, T_n_rueck)\n",
    "pv = pv_profil.get_pv_profil(plz, 2014, anlage_groesse)"
   ]
  },
  {
   "cell_type": "code",
   "execution_count": 5,
   "metadata": {},
   "outputs": [
    {
     "name": "stderr",
     "output_type": "stream",
     "text": [
      "FutureWarning: Downcasting object dtype arrays on .fillna, .ffill, .bfill is deprecated and will change in a future version. Call result.infer_objects(copy=False) instead. To opt-in to the future behavior, set `pd.set_option('future.no_silent_downcasting', True)`\n"
     ]
    }
   ],
   "source": [
    "df_wp = berechnen_wp.get_max_heizleistung(wp_groesse, df.copy())\n",
    "df_1, df_ohne = berechnen_wp.mit_hems(df_wp.copy(), pv, Q_ps, Q_ps_max, Q_ps_ueber, PS_verlust)\n",
    "df_2, df_ohne_2 = berechnen_wp.mit_hems_bsev(df_1, df_ohne, pv, battery_capacity, anlage_groesse, homeoffice)\n"
   ]
  },
  {
   "cell_type": "code",
   "execution_count": 6,
   "metadata": {},
   "outputs": [
    {
     "name": "stdout",
     "output_type": "stream",
     "text": [
      "Haushaltsstrombedarf in kWh: 1572\n",
      "Jahresertrag in kWh: 6762\n",
      "\n",
      "Ohne HEMS\n",
      "Wärmepumpe Strombedarf in kWh: 1159\n",
      "EV Strombedarf in kWh: 1343\n",
      "\n",
      "Geladene PV-Strom in Wärmepumpe in kWh: 481\n",
      "Geladene PV-Strom in Batteriespeicher in kWh: 1584\n",
      "Geladene PV-Strom in Elektroauto in kWh: 111\n",
      "\n",
      "Geladene BS-Strom in Wärmepumpe in kWh: 297\n",
      "Geladene BS-Strom in Elektroauto in kWh: 701\n",
      "\n",
      "Netzbezug in kWh: 1191\n",
      "Stromkosten in €/a: 426.38\n",
      "Einspeisung ins Netz in kWh: 3750\n",
      "Einspeisevergütung in €/a: 298.5\n",
      "Eigenverbrauch in kWh: 3012\n",
      "kg CO₂/a: 452.58\n",
      "\n",
      "Mit HEMS\n",
      "Wärmepumpe Strombedarf in kWh: 1159\n",
      "EV Strombedarf in kWh: 1307\n",
      "\n",
      "Geladene PV-Strom in Wärmepumpe in kWh: 501\n",
      "Geladene PV-Strom in Batteriespeicher in kWh: 1098\n",
      "Geladene PV-Strom in Elektroauto in kWh: 1129\n",
      "\n",
      "Geladene BS-Strom in Wärmepumpe in kWh: 359\n",
      "Geladene BS-Strom in Elektroauto in kWh: 59\n",
      "\n",
      "Netzbezug in kWh: 580\n",
      "Stromkosten in €/a: 207.64\n",
      "Einspeisung ins Netz in kWh: 3219\n",
      "Einspeisevergütung in €/a: 256.23\n",
      "Eigenverbrauch in kWh: 2510\n",
      "kg CO₂/a: 220.4\n",
      "\n",
      "Stromkosten Einsparung in €/a: 176.47\n",
      "CO2 Einsparung kg CO₂/a: 232.18\n"
     ]
    }
   ],
   "source": [
    "start_date = \"2014-03-26 00:00:00\"\n",
    "end_date = \"2014-11-30 23:00:00\"\n",
    "\n",
    "df_filtered = df_2.loc[start_date:end_date]\n",
    "df_ohne_filtered = df_ohne_2.loc[start_date:end_date]\n",
    "\n",
    "ersparnis = berechnen_wp.ersparnis_hems_bsev(df_filtered, df_ohne_filtered, anlage_groesse, strompreis)\n",
    "berechnen_wp.print_ersparnis_hems(ersparnis)"
   ]
  },
  {
   "cell_type": "code",
   "execution_count": 11,
   "metadata": {},
   "outputs": [
    {
     "name": "stderr",
     "output_type": "stream",
     "text": [
      "FutureWarning: Support for nested sequences for 'parse_dates' in pd.read_csv is deprecated. Combine the desired columns with pd.to_datetime after parsing instead.\n",
      "FutureWarning: Support for nested sequences for 'parse_dates' in pd.read_csv is deprecated. Combine the desired columns with pd.to_datetime after parsing instead.\n",
      "FutureWarning: Support for nested sequences for 'parse_dates' in pd.read_csv is deprecated. Combine the desired columns with pd.to_datetime after parsing instead.\n",
      "FutureWarning: Support for nested sequences for 'parse_dates' in pd.read_csv is deprecated. Combine the desired columns with pd.to_datetime after parsing instead.\n",
      "FutureWarning: 'H' is deprecated and will be removed in a future version, please use 'h' instead.\n"
     ]
    }
   ],
   "source": [
    "temp_2024 = temperatur_aussen.get_hourly_temperature(45257, 2024)"
   ]
  },
  {
   "cell_type": "markdown",
   "metadata": {},
   "source": [
    "## Bochum"
   ]
  },
  {
   "cell_type": "code",
   "execution_count": 7,
   "metadata": {},
   "outputs": [],
   "source": [
    "csv_path = \"./2_Bochum/1_Jahr 1.11.23-31.11.24/Historical_c554ad32-286c-4c0a-aa07-0fc6db11a63f_01-11-2023_-_01-12-2024_1M_gridX.csv\"\n",
    "df_bochum = pd.read_csv(csv_path, skiprows=1, delimiter=\",\", decimal=\",\")\n",
    "\n",
    "df_bochum['measuredAt'] = pd.to_datetime(df_bochum['measuredAt'])\n",
    "df_bochum.set_index('measuredAt', inplace=True)\n"
   ]
  },
  {
   "cell_type": "code",
   "execution_count": 8,
   "metadata": {},
   "outputs": [],
   "source": [
    "ergebnisse_bochum ={\n",
    "    'pv_ertrag ': round(df_bochum['PV (Wh)'].fillna(0).astype(float).sum() / 1000, 2),\n",
    "    'einspeisung' : round(df_bochum['Gesamte Netzeinspeisung (Wh)'].fillna(0).astype(float).sum() / 1000, 2),\n",
    "    'netzbezug' : round(df_bochum['Gesamter Netzbezug (Wh)'].fillna(0).astype(float).sum() / 1000, 2),\n",
    "    'strombedarf': round(df_bochum['Haushalt (Wh)'].fillna(0).astype(float).sum() / 1000, 2),\n",
    "    'bs_strom' : round(df_bochum['Batterieladung (Wh)'].fillna(0).astype(float).sum() / 1000, 2),\n",
    "    'ev_strom' : round(df_bochum['EV (Wh)'].fillna(0).astype(float).sum() / 1000, 2),\n",
    "    'verbrauch' : round(df_bochum['Verbrauch (Wh)'].fillna(0).astype(float).sum() / 1000, 2)\n",
    "}"
   ]
  },
  {
   "cell_type": "code",
   "execution_count": 9,
   "metadata": {},
   "outputs": [
    {
     "ename": "KeyboardInterrupt",
     "evalue": "",
     "output_type": "error",
     "traceback": [
      "\u001b[1;31m---------------------------------------------------------------------------\u001b[0m",
      "\u001b[1;31mKeyboardInterrupt\u001b[0m                         Traceback (most recent call last)",
      "Cell \u001b[1;32mIn[9], line 15\u001b[0m\n\u001b[0;32m     12\u001b[0m pv \u001b[38;5;241m=\u001b[39m pv_profil\u001b[38;5;241m.\u001b[39mget_pv_profil(plz, \u001b[38;5;241m2014\u001b[39m, anlage_groesse)\n\u001b[0;32m     14\u001b[0m \u001b[38;5;28;01mimport\u001b[39;00m \u001b[38;5;21;01mberechnen_ev\u001b[39;00m\n\u001b[1;32m---> 15\u001b[0m df_hems_bs, df_bs_ohne \u001b[38;5;241m=\u001b[39m berechnen_ev\u001b[38;5;241m.\u001b[39mmit_hems_bs(df\u001b[38;5;241m.\u001b[39mcopy(), pv, battery_capacity, homeoffice)\n\u001b[0;32m     16\u001b[0m ergebnisse_hems_bs \u001b[38;5;241m=\u001b[39m berechnen_ev\u001b[38;5;241m.\u001b[39mersparnis_hems_bs(df_hems_bs, df_bs_ohne, anlage_groesse, strompreis)\n",
      "File \u001b[1;32mc:\\Users\\n-w\\OneDrive\\Desktop\\thesis_del\\hemsrechner\\berechnen_ev.py:747\u001b[0m, in \u001b[0;36mmit_hems_bs\u001b[1;34m(df, pv, bs_kapazitaet, homeoffice)\u001b[0m\n\u001b[0;32m    745\u001b[0m df\u001b[38;5;241m.\u001b[39mloc[i, \u001b[38;5;124m'\u001b[39m\u001b[38;5;124mPV to EV\u001b[39m\u001b[38;5;124m'\u001b[39m] \u001b[38;5;241m=\u001b[39m pv_to_ev\n\u001b[0;32m    746\u001b[0m df\u001b[38;5;241m.\u001b[39mloc[i, \u001b[38;5;124m'\u001b[39m\u001b[38;5;124mbs ladung\u001b[39m\u001b[38;5;124m'\u001b[39m] \u001b[38;5;241m=\u001b[39m bs_ladung\n\u001b[1;32m--> 747\u001b[0m df\u001b[38;5;241m.\u001b[39mloc[i, \u001b[38;5;124m'\u001b[39m\u001b[38;5;124mBS to EV\u001b[39m\u001b[38;5;124m'\u001b[39m] \u001b[38;5;241m=\u001b[39m bs_to_ev\n\u001b[0;32m    748\u001b[0m df\u001b[38;5;241m.\u001b[39mloc[i, \u001b[38;5;124m'\u001b[39m\u001b[38;5;124meinspeisung\u001b[39m\u001b[38;5;124m'\u001b[39m] \u001b[38;5;241m=\u001b[39m ueberschuss\n\u001b[0;32m    749\u001b[0m df\u001b[38;5;241m.\u001b[39mloc[i, \u001b[38;5;124m'\u001b[39m\u001b[38;5;124mEV Ladung\u001b[39m\u001b[38;5;124m'\u001b[39m] \u001b[38;5;241m=\u001b[39m ladeleistung\n",
      "File \u001b[1;32mc:\\Users\\n-w\\anaconda3\\envs\\thesis_venv\\Lib\\site-packages\\pandas\\core\\indexing.py:911\u001b[0m, in \u001b[0;36m_LocationIndexer.__setitem__\u001b[1;34m(self, key, value)\u001b[0m\n\u001b[0;32m    908\u001b[0m \u001b[38;5;28mself\u001b[39m\u001b[38;5;241m.\u001b[39m_has_valid_setitem_indexer(key)\n\u001b[0;32m    910\u001b[0m iloc \u001b[38;5;241m=\u001b[39m \u001b[38;5;28mself\u001b[39m \u001b[38;5;28;01mif\u001b[39;00m \u001b[38;5;28mself\u001b[39m\u001b[38;5;241m.\u001b[39mname \u001b[38;5;241m==\u001b[39m \u001b[38;5;124m\"\u001b[39m\u001b[38;5;124miloc\u001b[39m\u001b[38;5;124m\"\u001b[39m \u001b[38;5;28;01melse\u001b[39;00m \u001b[38;5;28mself\u001b[39m\u001b[38;5;241m.\u001b[39mobj\u001b[38;5;241m.\u001b[39miloc\n\u001b[1;32m--> 911\u001b[0m iloc\u001b[38;5;241m.\u001b[39m_setitem_with_indexer(indexer, value, \u001b[38;5;28mself\u001b[39m\u001b[38;5;241m.\u001b[39mname)\n",
      "File \u001b[1;32mc:\\Users\\n-w\\anaconda3\\envs\\thesis_venv\\Lib\\site-packages\\pandas\\core\\indexing.py:1942\u001b[0m, in \u001b[0;36m_iLocIndexer._setitem_with_indexer\u001b[1;34m(self, indexer, value, name)\u001b[0m\n\u001b[0;32m   1939\u001b[0m \u001b[38;5;66;03m# align and set the values\u001b[39;00m\n\u001b[0;32m   1940\u001b[0m \u001b[38;5;28;01mif\u001b[39;00m take_split_path:\n\u001b[0;32m   1941\u001b[0m     \u001b[38;5;66;03m# We have to operate column-wise\u001b[39;00m\n\u001b[1;32m-> 1942\u001b[0m     \u001b[38;5;28mself\u001b[39m\u001b[38;5;241m.\u001b[39m_setitem_with_indexer_split_path(indexer, value, name)\n\u001b[0;32m   1943\u001b[0m \u001b[38;5;28;01melse\u001b[39;00m:\n\u001b[0;32m   1944\u001b[0m     \u001b[38;5;28mself\u001b[39m\u001b[38;5;241m.\u001b[39m_setitem_single_block(indexer, value, name)\n",
      "File \u001b[1;32mc:\\Users\\n-w\\anaconda3\\envs\\thesis_venv\\Lib\\site-packages\\pandas\\core\\indexing.py:2035\u001b[0m, in \u001b[0;36m_iLocIndexer._setitem_with_indexer_split_path\u001b[1;34m(self, indexer, value, name)\u001b[0m\n\u001b[0;32m   2032\u001b[0m \u001b[38;5;28;01melse\u001b[39;00m:\n\u001b[0;32m   2033\u001b[0m     \u001b[38;5;66;03m# scalar value\u001b[39;00m\n\u001b[0;32m   2034\u001b[0m     \u001b[38;5;28;01mfor\u001b[39;00m loc \u001b[38;5;129;01min\u001b[39;00m ilocs:\n\u001b[1;32m-> 2035\u001b[0m         \u001b[38;5;28mself\u001b[39m\u001b[38;5;241m.\u001b[39m_setitem_single_column(loc, value, pi)\n",
      "File \u001b[1;32mc:\\Users\\n-w\\anaconda3\\envs\\thesis_venv\\Lib\\site-packages\\pandas\\core\\indexing.py:2175\u001b[0m, in \u001b[0;36m_iLocIndexer._setitem_single_column\u001b[1;34m(self, loc, value, plane_indexer)\u001b[0m\n\u001b[0;32m   2165\u001b[0m     \u001b[38;5;28;01mif\u001b[39;00m dtype \u001b[38;5;241m==\u001b[39m np\u001b[38;5;241m.\u001b[39mvoid:\n\u001b[0;32m   2166\u001b[0m         \u001b[38;5;66;03m# This means we're expanding, with multiple columns, e.g.\u001b[39;00m\n\u001b[0;32m   2167\u001b[0m         \u001b[38;5;66;03m#     df = pd.DataFrame({'A': [1,2,3], 'B': [4,5,6]})\u001b[39;00m\n\u001b[1;32m   (...)\u001b[0m\n\u001b[0;32m   2170\u001b[0m         \u001b[38;5;66;03m# Here, we replace those temporary `np.void` columns with\u001b[39;00m\n\u001b[0;32m   2171\u001b[0m         \u001b[38;5;66;03m# columns of the appropriate dtype, based on `value`.\u001b[39;00m\n\u001b[0;32m   2172\u001b[0m         \u001b[38;5;28mself\u001b[39m\u001b[38;5;241m.\u001b[39mobj\u001b[38;5;241m.\u001b[39miloc[:, loc] \u001b[38;5;241m=\u001b[39m construct_1d_array_from_inferred_fill_value(\n\u001b[0;32m   2173\u001b[0m             value, \u001b[38;5;28mlen\u001b[39m(\u001b[38;5;28mself\u001b[39m\u001b[38;5;241m.\u001b[39mobj)\n\u001b[0;32m   2174\u001b[0m         )\n\u001b[1;32m-> 2175\u001b[0m     \u001b[38;5;28mself\u001b[39m\u001b[38;5;241m.\u001b[39mobj\u001b[38;5;241m.\u001b[39m_mgr\u001b[38;5;241m.\u001b[39mcolumn_setitem(loc, plane_indexer, value)\n\u001b[0;32m   2177\u001b[0m \u001b[38;5;28mself\u001b[39m\u001b[38;5;241m.\u001b[39mobj\u001b[38;5;241m.\u001b[39m_clear_item_cache()\n",
      "File \u001b[1;32mc:\\Users\\n-w\\anaconda3\\envs\\thesis_venv\\Lib\\site-packages\\pandas\\core\\internals\\managers.py:1308\u001b[0m, in \u001b[0;36mBlockManager.column_setitem\u001b[1;34m(self, loc, idx, value, inplace_only)\u001b[0m\n\u001b[0;32m   1301\u001b[0m \u001b[38;5;250m\u001b[39m\u001b[38;5;124;03m\"\"\"\u001b[39;00m\n\u001b[0;32m   1302\u001b[0m \u001b[38;5;124;03mSet values (\"setitem\") into a single column (not setting the full column).\u001b[39;00m\n\u001b[0;32m   1303\u001b[0m \n\u001b[0;32m   1304\u001b[0m \u001b[38;5;124;03mThis is a method on the BlockManager level, to avoid creating an\u001b[39;00m\n\u001b[0;32m   1305\u001b[0m \u001b[38;5;124;03mintermediate Series at the DataFrame level (`s = df[loc]; s[idx] = value`)\u001b[39;00m\n\u001b[0;32m   1306\u001b[0m \u001b[38;5;124;03m\"\"\"\u001b[39;00m\n\u001b[0;32m   1307\u001b[0m needs_to_warn \u001b[38;5;241m=\u001b[39m \u001b[38;5;28;01mFalse\u001b[39;00m\n\u001b[1;32m-> 1308\u001b[0m \u001b[38;5;28;01mif\u001b[39;00m warn_copy_on_write() \u001b[38;5;129;01mand\u001b[39;00m \u001b[38;5;129;01mnot\u001b[39;00m \u001b[38;5;28mself\u001b[39m\u001b[38;5;241m.\u001b[39m_has_no_reference(loc):\n\u001b[0;32m   1309\u001b[0m     \u001b[38;5;28;01mif\u001b[39;00m \u001b[38;5;129;01mnot\u001b[39;00m \u001b[38;5;28misinstance\u001b[39m(\n\u001b[0;32m   1310\u001b[0m         \u001b[38;5;28mself\u001b[39m\u001b[38;5;241m.\u001b[39mblocks[\u001b[38;5;28mself\u001b[39m\u001b[38;5;241m.\u001b[39mblknos[loc]]\u001b[38;5;241m.\u001b[39mvalues,\n\u001b[0;32m   1311\u001b[0m         (ArrowExtensionArray, ArrowStringArray),\n\u001b[0;32m   1312\u001b[0m     ):\n\u001b[0;32m   1313\u001b[0m         \u001b[38;5;66;03m# We might raise if we are in an expansion case, so defer\u001b[39;00m\n\u001b[0;32m   1314\u001b[0m         \u001b[38;5;66;03m# warning till we actually updated\u001b[39;00m\n\u001b[0;32m   1315\u001b[0m         needs_to_warn \u001b[38;5;241m=\u001b[39m \u001b[38;5;28;01mTrue\u001b[39;00m\n",
      "File \u001b[1;32mc:\\Users\\n-w\\anaconda3\\envs\\thesis_venv\\Lib\\site-packages\\pandas\\_config\\__init__.py:42\u001b[0m, in \u001b[0;36mwarn_copy_on_write\u001b[1;34m()\u001b[0m\n\u001b[0;32m     35\u001b[0m     _mode_options \u001b[38;5;241m=\u001b[39m _global_config[\u001b[38;5;124m\"\u001b[39m\u001b[38;5;124mmode\u001b[39m\u001b[38;5;124m\"\u001b[39m]\n\u001b[0;32m     36\u001b[0m     \u001b[38;5;28;01mreturn\u001b[39;00m (\n\u001b[0;32m     37\u001b[0m         _mode_options[\u001b[38;5;124m\"\u001b[39m\u001b[38;5;124mcopy_on_write\u001b[39m\u001b[38;5;124m\"\u001b[39m] \u001b[38;5;129;01mis\u001b[39;00m \u001b[38;5;28;01mTrue\u001b[39;00m\n\u001b[0;32m     38\u001b[0m         \u001b[38;5;129;01mand\u001b[39;00m _mode_options[\u001b[38;5;124m\"\u001b[39m\u001b[38;5;124mdata_manager\u001b[39m\u001b[38;5;124m\"\u001b[39m] \u001b[38;5;241m==\u001b[39m \u001b[38;5;124m\"\u001b[39m\u001b[38;5;124mblock\u001b[39m\u001b[38;5;124m\"\u001b[39m\n\u001b[0;32m     39\u001b[0m     )\n\u001b[1;32m---> 42\u001b[0m \u001b[38;5;28;01mdef\u001b[39;00m \u001b[38;5;21mwarn_copy_on_write\u001b[39m() \u001b[38;5;241m-\u001b[39m\u001b[38;5;241m>\u001b[39m \u001b[38;5;28mbool\u001b[39m:\n\u001b[0;32m     43\u001b[0m     _mode_options \u001b[38;5;241m=\u001b[39m _global_config[\u001b[38;5;124m\"\u001b[39m\u001b[38;5;124mmode\u001b[39m\u001b[38;5;124m\"\u001b[39m]\n\u001b[0;32m     44\u001b[0m     \u001b[38;5;28;01mreturn\u001b[39;00m (\n\u001b[0;32m     45\u001b[0m         _mode_options[\u001b[38;5;124m\"\u001b[39m\u001b[38;5;124mcopy_on_write\u001b[39m\u001b[38;5;124m\"\u001b[39m] \u001b[38;5;241m==\u001b[39m \u001b[38;5;124m\"\u001b[39m\u001b[38;5;124mwarn\u001b[39m\u001b[38;5;124m\"\u001b[39m\n\u001b[0;32m     46\u001b[0m         \u001b[38;5;129;01mand\u001b[39;00m _mode_options[\u001b[38;5;124m\"\u001b[39m\u001b[38;5;124mdata_manager\u001b[39m\u001b[38;5;124m\"\u001b[39m] \u001b[38;5;241m==\u001b[39m \u001b[38;5;124m\"\u001b[39m\u001b[38;5;124mblock\u001b[39m\u001b[38;5;124m\"\u001b[39m\n\u001b[0;32m     47\u001b[0m     )\n",
      "\u001b[1;31mKeyboardInterrupt\u001b[0m: "
     ]
    }
   ],
   "source": [
    "# Haus ähnlich zu Bochum simulieren\n",
    "plz = 44787\n",
    "anlage_groesse = 9.52\n",
    "battery_capacity = 10.2\n",
    "homeoffice = False\n",
    "anzahl_personen = 4\n",
    "strompreis = 0.358\n",
    "\n",
    "h, w, twe, s = lastprofile_VDI4655.get_jahresenergiebedarf('1984 - 1994', flaeche, anzahl_personen, 0)\n",
    "TRY_region, T_n_aussen = try_region.get_try_t_n_aussen(plz)\n",
    "df = lastprofile_VDI4655.get_lastprofile(w, s, twe, flaeche, TRY_region, 2)\n",
    "pv = pv_profil.get_pv_profil(plz, 2014, anlage_groesse)\n",
    "\n",
    "import berechnen_ev\n",
    "df_hems_bs, df_bs_ohne = berechnen_ev.mit_hems_bs(df.copy(), pv, battery_capacity, homeoffice)\n",
    "ergebnisse_hems_bs = berechnen_ev.ersparnis_hems_bs(df_hems_bs, df_bs_ohne, anlage_groesse, strompreis)"
   ]
  },
  {
   "cell_type": "markdown",
   "metadata": {},
   "source": [
    "## Leverkusen"
   ]
  },
  {
   "cell_type": "code",
   "execution_count": null,
   "metadata": {},
   "outputs": [],
   "source": [
    "csv_path = \"./3_Leverkusen/1_Jahr 1.11.23-31.11.24/Historical_91d3ccb5-879d-4861-901e-820adb87f57c_01-11-2023_-_01-12-2024_1M_gridX.csv\"\n",
    "df_leverkusen = pd.read_csv(csv_path, skiprows=1, delimiter=\",\", decimal=\",\")\n",
    "\n",
    "df_leverkusen['measuredAt'] = pd.to_datetime(df_leverkusen['measuredAt'])\n",
    "df_leverkusen.set_index('measuredAt', inplace=True)"
   ]
  },
  {
   "cell_type": "code",
   "execution_count": null,
   "metadata": {},
   "outputs": [],
   "source": [
    "ergebnisse_leverkusen ={\n",
    "    'pv_ertrag ': round(df_leverkusen['PV (Wh)'].fillna(0).astype(float).sum() / 1000, 2),\n",
    "    'einspeisung' : round(df_leverkusen['Gesamte Netzeinspeisung (Wh)'].fillna(0).astype(float).sum() / 1000, 2),\n",
    "    'netzbezug' : round(df_leverkusen['Gesamter Netzbezug (Wh)'].fillna(0).astype(float).sum() / 1000, 2),\n",
    "    'strombedarf': round(df_leverkusen['Haushalt (Wh)'].fillna(0).astype(float).sum() / 1000, 2),\n",
    "    'bs_strom' : round(df_leverkusen['Batterieladung (Wh)'].fillna(0).astype(float).sum() / 1000, 2),\n",
    "    'wp_strom' : round(df_leverkusen['Wärmepumpe (Wh)'].fillna(0).astype(float).sum() / 1000, 2),\n",
    "    'verbrauch' : round(df_leverkusen['Verbrauch (Wh)'].fillna(0).astype(float).sum() / 1000, 2)\n",
    "}"
   ]
  },
  {
   "cell_type": "code",
   "execution_count": null,
   "metadata": {},
   "outputs": [
    {
     "name": "stderr",
     "output_type": "stream",
     "text": [
      "FutureWarning: 'H' is deprecated and will be removed in a future version, please use 'h' instead.\n",
      "FutureWarning: Downcasting object dtype arrays on .fillna, .ffill, .bfill is deprecated and will change in a future version. Call result.infer_objects(copy=False) instead. To opt-in to the future behavior, set `pd.set_option('future.no_silent_downcasting', True)`\n"
     ]
    }
   ],
   "source": [
    "import importlib\n",
    "importlib.reload(berechnen_wp)\n",
    "# Haus ähnlich zu Leverkusen simulieren\n",
    "plz = 51371\n",
    "anlage_groesse = 10.16\n",
    "battery_capacity = 7.7\n",
    "anzahl_personen = 4\n",
    "flaeche = 200\n",
    "strompreis = 0.358\n",
    "\n",
    "h, w, twe, s = lastprofile_VDI4655.get_jahresenergiebedarf('1984 - 1994', flaeche, anzahl_personen, 0)\n",
    "TRY_region, T_n_aussen = try_region.get_try_t_n_aussen(plz)\n",
    "df3 = lastprofile_VDI4655.get_lastprofile(w, s, twe, flaeche, TRY_region, 2)\n",
    "df3['T_aussen'] = temperatur_aussen.get_hourly_temperature(plz, 2014)\n",
    "hz, T_soll, T_n_vor, T_n_rueck = heizkurve.get_heizkurve('Heizkörper', df3['T_aussen'], T_n_aussen)\n",
    "df3['T_vor'] = hz['T_vor']\n",
    "wp_groesse, wp_modell = berechnen_wp.get_waermepumpe(h)\n",
    "heizleistung_auslegung = heizkurve.get_heizleistung(T_n_aussen, h, T_soll)\n",
    "df3 = heizkurve.get_cop(wp_groesse, df3)\n",
    "V_ps, PS_verlust, Q_ps, Q_ps_max, Q_ps_ueber = berechnen_wp.get_pufferspeicher(h, T_n_vor, T_n_rueck)\n",
    "pv = pv_profil.get_pv_profil(plz, 2014, anlage_groesse)\n",
    "\n",
    "df_wp = berechnen_wp.get_max_heizleistung(wp_groesse, df3.copy())\n",
    "df_1, df_ohne = berechnen_wp.mit_hems(df_wp.copy(), pv, Q_ps, Q_ps_max, Q_ps_ueber, PS_verlust)\n",
    "df_2, df_ohne_2 = berechnen_wp.mit_hems_bsev(df_1, df_ohne, pv, battery_capacity, anlage_groesse, homeoffice)\n",
    "\n",
    "ergebnisse_hems_lev = berechnen_wp.ersparnis_hems_bsev(df_2, df_ohne_2, anlage_groesse, strompreis)"
   ]
  },
  {
   "cell_type": "markdown",
   "metadata": {},
   "source": [
    "## Wärmste Monat (August)"
   ]
  },
  {
   "cell_type": "code",
   "execution_count": null,
   "metadata": {},
   "outputs": [],
   "source": []
  }
 ],
 "metadata": {
  "kernelspec": {
   "display_name": "thesis_venv",
   "language": "python",
   "name": "python3"
  },
  "language_info": {
   "codemirror_mode": {
    "name": "ipython",
    "version": 3
   },
   "file_extension": ".py",
   "mimetype": "text/x-python",
   "name": "python",
   "nbconvert_exporter": "python",
   "pygments_lexer": "ipython3",
   "version": "3.12.3"
  }
 },
 "nbformat": 4,
 "nbformat_minor": 2
}
