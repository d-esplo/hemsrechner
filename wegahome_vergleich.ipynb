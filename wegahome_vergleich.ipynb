{
 "cells": [
  {
   "cell_type": "markdown",
   "metadata": {},
   "source": [
    "### Vergleich mit Wegahome\n",
    "#### Gemessene Daten von 3 Kunden, Standorten: Essen, Bochum und Leverkusen"
   ]
  },
  {
   "cell_type": "code",
   "execution_count": 1,
   "metadata": {},
   "outputs": [],
   "source": [
    "import pandas as pd\n",
    "\n",
    "csv_essen = pd.read_csv('./Essen_2024.csv')\n",
    "# Konvertiere die 'measuredAt'-Spalte in ein datetime-Format\n",
    "csv_essen['measuredAt'] = pd.to_datetime(csv_essen['measuredAt'])\n",
    "csv_essen.set_index('measuredAt', inplace=True)\n",
    "\n",
    "df_essen = csv_essen.resample('1h').mean()\n",
    "teilen = ['PV (Wh)', 'Gesamte Netzeinspeisung (Wh)', 'Gesamter Netzbezug (Wh)', 'Batterieladung (Wh)', 'EV (Wh)', 'Haushalt (Wh)', 'Verbrauch (Wh)', 'Wärmepumpe (Wh)']  \n"
   ]
  },
  {
   "cell_type": "code",
   "execution_count": 11,
   "metadata": {},
   "outputs": [],
   "source": [
    "# Summe in kW\n",
    "pv_ertrag= round(df_essen['PV (Wh)'].fillna(0).astype(float).sum() / 1000, 2)\n",
    "einspeisung = round(df_essen['Gesamte Netzeinspeisung (Wh)'].fillna(0).astype(float).sum() / 1000, 2)\n",
    "netzbezug = round(df_essen['Gesamter Netzbezug (Wh)'].fillna(0).astype(float).sum() / 1000, 2)\n",
    "strombedarf = round(df_essen['Haushalt (Wh)'].fillna(0).astype(float).sum() / 1000, 2)\n",
    "wp_strom = round(df_essen['Wärmepumpe (Wh)'].fillna(0).astype(float).sum() / 1000, 2)\n",
    "bs_strom = round(df_essen['Batterieladung (Wh)'].fillna(0).astype(float).sum() / 1000, 2)\n",
    "ev_strom = round(df_essen['EV (Wh)'].fillna(0).astype(float).sum() / 1000, 2)\n",
    "verbrauch = round(df_essen['Verbrauch (Wh)'].fillna(0).astype(float).sum() / 1000, 2)"
   ]
  },
  {
   "cell_type": "markdown",
   "metadata": {},
   "source": [
    "### Simulation mit HEMS-Rechner"
   ]
  },
  {
   "cell_type": "code",
   "execution_count": null,
   "metadata": {},
   "outputs": [],
   "source": [
    "# Haus ähnlich zu Essen simulieren\n",
    "plz = 45257\n",
    "anlage_groesse = 7.6\n",
    "battery_capacity = 10.2\n",
    "heizlast = 7 # eigetlich WP-Größe\n",
    "homeoffice = True\n",
    "flaeche = 100\n",
    "anzahl_personen = 1\n",
    "strompreis = 0.358"
   ]
  },
  {
   "cell_type": "code",
   "execution_count": 17,
   "metadata": {},
   "outputs": [
    {
     "name": "stderr",
     "output_type": "stream",
     "text": [
      "FutureWarning: 'H' is deprecated and will be removed in a future version, please use 'h' instead.\n"
     ]
    }
   ],
   "source": [
    "import berechnen_wp, pv_profil, lastprofile_VDI4655, temperatur_aussen, try_region, heizkurve\n",
    "\n",
    "h, w, twe, s = lastprofile_VDI4655.get_jahresenergiebedarf('1984 - 1994', flaeche, anzahl_personen, 0)\n",
    "TRY_region, T_n_aussen = try_region.get_try_t_n_aussen(plz)\n",
    "df = lastprofile_VDI4655.get_lastprofile(w, s, twe, flaeche, TRY_region, 2)\n",
    "df['T_aussen'] = temperatur_aussen.get_hourly_temperature(plz, 2014)\n",
    "hz, T_soll, T_n_vor, T_n_rueck = heizkurve.get_heizkurve('Heizkörper', df['T_aussen'], T_n_aussen)\n",
    "df['T_vor'] = hz['T_vor']\n",
    "wp_groesse, wp_modell = berechnen_wp.get_waermepumpe(h)\n",
    "heizleistung_auslegung = heizkurve.get_heizleistung(T_n_aussen, h, T_soll)\n",
    "df = heizkurve.get_cop(wp_groesse, df)\n",
    "V_ps, PS_verlust, Q_ps, Q_ps_max, Q_ps_ueber = berechnen_wp.get_pufferspeicher(h, T_n_vor, T_n_rueck)\n",
    "pv = pv_profil.get_pv_profil(plz, 2014, anlage_groesse)"
   ]
  },
  {
   "cell_type": "code",
   "execution_count": 18,
   "metadata": {},
   "outputs": [
    {
     "name": "stderr",
     "output_type": "stream",
     "text": [
      "FutureWarning: Downcasting object dtype arrays on .fillna, .ffill, .bfill is deprecated and will change in a future version. Call result.infer_objects(copy=False) instead. To opt-in to the future behavior, set `pd.set_option('future.no_silent_downcasting', True)`\n"
     ]
    }
   ],
   "source": [
    "df_wp = berechnen_wp.get_max_heizleistung(wp_groesse, df.copy())\n",
    "df_1, df_ohne = berechnen_wp.mit_hems(df_wp.copy(), pv, Q_ps, Q_ps_max, Q_ps_ueber, PS_verlust)\n",
    "df_2, df_ohne_2 = berechnen_wp.mit_hems_bsev(df_1, df_ohne, pv, battery_capacity, anlage_groesse, homeoffice)\n"
   ]
  },
  {
   "cell_type": "code",
   "execution_count": 19,
   "metadata": {},
   "outputs": [
    {
     "name": "stdout",
     "output_type": "stream",
     "text": [
      "Haushaltsstrombedarf in kWh: 1572\n",
      "Jahresertrag in kWh: 6228\n",
      "\n",
      "Ohne HEMS\n",
      "Wärmepumpe Strombedarf in kWh: 1159\n",
      "EV Strombedarf in kWh: 1343\n",
      "\n",
      "Geladene PV-Strom in Wärmepumpe in kWh: 467\n",
      "Geladene PV-Strom in Batteriespeicher in kWh: 1558\n",
      "Geladene PV-Strom in Elektroauto in kWh: 98\n",
      "\n",
      "Geladene BS-Strom in Wärmepumpe in kWh: 290\n",
      "Geladene BS-Strom in Elektroauto in kWh: 689\n",
      "\n",
      "Netzbezug in kWh: 1250\n",
      "Stromkosten in €/a: 447.5\n",
      "Einspeisung ins Netz in kWh: 3277\n",
      "Einspeisevergütung in €/a: 260.85\n",
      "Eigenverbrauch in kWh: 2951\n",
      "kg CO₂/a: 475.0\n",
      "\n",
      "Mit HEMS\n",
      "Wärmepumpe Strombedarf in kWh: 1158\n",
      "EV Strombedarf in kWh: 1306\n",
      "\n",
      "Geladene PV-Strom in Wärmepumpe in kWh: 483\n",
      "Geladene PV-Strom in Batteriespeicher in kWh: 1078\n",
      "Geladene PV-Strom in Elektroauto in kWh: 1109\n",
      "\n",
      "Geladene BS-Strom in Wärmepumpe in kWh: 352\n",
      "Geladene BS-Strom in Elektroauto in kWh: 49\n",
      "\n",
      "Netzbezug in kWh: 641\n",
      "Stromkosten in €/a: 229.48\n",
      "Einspeisung ins Netz in kWh: 2750\n",
      "Einspeisevergütung in €/a: 218.9\n",
      "Eigenverbrauch in kWh: 2453\n",
      "kg CO₂/a: 243.58\n",
      "\n",
      "Stromkosten Einsparung in €/a: 176.07\n",
      "CO2 Einsparung kg CO₂/a: 231.42\n"
     ]
    }
   ],
   "source": [
    "start_date = \"2014-03-26 00:00:00\"\n",
    "end_date = \"2014-11-30 23:00:00\"\n",
    "\n",
    "df_filtered = df_2.loc[start_date:end_date]\n",
    "df_ohne_filtered = df_ohne_2.loc[start_date:end_date]\n",
    "\n",
    "ersparnis = berechnen_wp.ersparnis_hems_bsev(df_filtered, df_ohne_filtered, anlage_groesse, strompreis)\n",
    "berechnen_wp.print_ersparnis_hems(ersparnis)"
   ]
  },
  {
   "cell_type": "code",
   "execution_count": null,
   "metadata": {},
   "outputs": [],
   "source": []
  },
  {
   "cell_type": "markdown",
   "metadata": {},
   "source": [
    "## Bochum"
   ]
  },
  {
   "cell_type": "code",
   "execution_count": 25,
   "metadata": {},
   "outputs": [],
   "source": [
    "csv_path = \"./2_Bochum/1_Jahr 1.11.23-31.11.24/Historical_c554ad32-286c-4c0a-aa07-0fc6db11a63f_01-11-2023_-_01-12-2024_1M_gridX.csv\"\n",
    "df_bochum = pd.read_csv(csv_path, skiprows=1, delimiter=\",\", decimal=\",\")\n",
    "\n",
    "df_bochum['measuredAt'] = pd.to_datetime(df_bochum['measuredAt'])\n",
    "df_bochum.set_index('measuredAt', inplace=True)\n"
   ]
  },
  {
   "cell_type": "code",
   "execution_count": 28,
   "metadata": {},
   "outputs": [],
   "source": [
    "ergebnisse_bochum ={\n",
    "    'pv_ertrag ': round(df_bochum['PV (Wh)'].fillna(0).astype(float).sum() / 1000, 2),\n",
    "    'einspeisung' : round(df_bochum['Gesamte Netzeinspeisung (Wh)'].fillna(0).astype(float).sum() / 1000, 2),\n",
    "    'netzbezug' : round(df_bochum['Gesamter Netzbezug (Wh)'].fillna(0).astype(float).sum() / 1000, 2),\n",
    "    'strombedarf': round(df_bochum['Haushalt (Wh)'].fillna(0).astype(float).sum() / 1000, 2),\n",
    "    'bs_strom' : round(df_bochum['Batterieladung (Wh)'].fillna(0).astype(float).sum() / 1000, 2),\n",
    "    'ev_strom' : round(df_bochum['EV (Wh)'].fillna(0).astype(float).sum() / 1000, 2),\n",
    "    'verbrauch' : round(df_bochum['Verbrauch (Wh)'].fillna(0).astype(float).sum() / 1000, 2)\n",
    "}"
   ]
  },
  {
   "cell_type": "code",
   "execution_count": 32,
   "metadata": {},
   "outputs": [],
   "source": [
    "# Haus ähnlich zu Bochum simulieren\n",
    "plz = 44787\n",
    "anlage_groesse = 9.52\n",
    "battery_capacity = 10.2\n",
    "homeoffice = False\n",
    "anzahl_personen = 4\n",
    "strompreis = 0.358\n",
    "\n",
    "h, w, twe, s = lastprofile_VDI4655.get_jahresenergiebedarf('1984 - 1994', flaeche, anzahl_personen, 0)\n",
    "TRY_region, T_n_aussen = try_region.get_try_t_n_aussen(plz)\n",
    "df = lastprofile_VDI4655.get_lastprofile(w, s, twe, flaeche, TRY_region, 2)\n",
    "pv = pv_profil.get_pv_profil(plz, 2014, anlage_groesse)\n",
    "\n",
    "import berechnen_ev\n",
    "df_hems_bs, df_bs_ohne = berechnen_ev.mit_hems_bs(df.copy(), pv, battery_capacity, homeoffice)\n",
    "ergebnisse_hems_bs = berechnen_ev.ersparnis_hems_bs(df_hems_bs, df_bs_ohne, anlage_groesse, strompreis)"
   ]
  },
  {
   "cell_type": "markdown",
   "metadata": {},
   "source": [
    "## Leverkusen"
   ]
  },
  {
   "cell_type": "code",
   "execution_count": 30,
   "metadata": {},
   "outputs": [],
   "source": [
    "csv_path = \"./3_Leverkusen/1_Jahr 1.11.23-31.11.24/Historical_91d3ccb5-879d-4861-901e-820adb87f57c_01-11-2023_-_01-12-2024_1M_gridX.csv\"\n",
    "df_leverkusen = pd.read_csv(csv_path, skiprows=1, delimiter=\",\", decimal=\",\")\n",
    "\n",
    "df_leverkusen['measuredAt'] = pd.to_datetime(df_leverkusen['measuredAt'])\n",
    "df_leverkusen.set_index('measuredAt', inplace=True)"
   ]
  },
  {
   "cell_type": "code",
   "execution_count": 31,
   "metadata": {},
   "outputs": [],
   "source": [
    "ergebnisse_leverkusen ={\n",
    "    'pv_ertrag ': round(df_leverkusen['PV (Wh)'].fillna(0).astype(float).sum() / 1000, 2),\n",
    "    'einspeisung' : round(df_leverkusen['Gesamte Netzeinspeisung (Wh)'].fillna(0).astype(float).sum() / 1000, 2),\n",
    "    'netzbezug' : round(df_leverkusen['Gesamter Netzbezug (Wh)'].fillna(0).astype(float).sum() / 1000, 2),\n",
    "    'strombedarf': round(df_leverkusen['Haushalt (Wh)'].fillna(0).astype(float).sum() / 1000, 2),\n",
    "    'bs_strom' : round(df_leverkusen['Batterieladung (Wh)'].fillna(0).astype(float).sum() / 1000, 2),\n",
    "    'wp_strom' : round(df_leverkusen['Wärmepumpe (Wh)'].fillna(0).astype(float).sum() / 1000, 2),\n",
    "    'verbrauch' : round(df_leverkusen['Verbrauch (Wh)'].fillna(0).astype(float).sum() / 1000, 2)\n",
    "}"
   ]
  },
  {
   "cell_type": "code",
   "execution_count": 37,
   "metadata": {},
   "outputs": [
    {
     "name": "stderr",
     "output_type": "stream",
     "text": [
      "FutureWarning: 'H' is deprecated and will be removed in a future version, please use 'h' instead.\n",
      "FutureWarning: Downcasting object dtype arrays on .fillna, .ffill, .bfill is deprecated and will change in a future version. Call result.infer_objects(copy=False) instead. To opt-in to the future behavior, set `pd.set_option('future.no_silent_downcasting', True)`\n"
     ]
    }
   ],
   "source": [
    "import importlib\n",
    "importlib.reload(berechnen_wp)\n",
    "# Haus ähnlich zu Leverkusen simulieren\n",
    "plz = 51371\n",
    "anlage_groesse = 10.16\n",
    "battery_capacity = 7.7\n",
    "anzahl_personen = 4\n",
    "flaeche = 200\n",
    "strompreis = 0.358\n",
    "\n",
    "h, w, twe, s = lastprofile_VDI4655.get_jahresenergiebedarf('1984 - 1994', flaeche, anzahl_personen, 0)\n",
    "TRY_region, T_n_aussen = try_region.get_try_t_n_aussen(plz)\n",
    "df3 = lastprofile_VDI4655.get_lastprofile(w, s, twe, flaeche, TRY_region, 2)\n",
    "df3['T_aussen'] = temperatur_aussen.get_hourly_temperature(plz, 2014)\n",
    "hz, T_soll, T_n_vor, T_n_rueck = heizkurve.get_heizkurve('Heizkörper', df3['T_aussen'], T_n_aussen)\n",
    "df3['T_vor'] = hz['T_vor']\n",
    "wp_groesse, wp_modell = berechnen_wp.get_waermepumpe(h)\n",
    "heizleistung_auslegung = heizkurve.get_heizleistung(T_n_aussen, h, T_soll)\n",
    "df3 = heizkurve.get_cop(wp_groesse, df3)\n",
    "V_ps, PS_verlust, Q_ps, Q_ps_max, Q_ps_ueber = berechnen_wp.get_pufferspeicher(h, T_n_vor, T_n_rueck)\n",
    "pv = pv_profil.get_pv_profil(plz, 2014, anlage_groesse)\n",
    "\n",
    "df_wp = berechnen_wp.get_max_heizleistung(wp_groesse, df3.copy())\n",
    "df_1, df_ohne = berechnen_wp.mit_hems(df_wp.copy(), pv, Q_ps, Q_ps_max, Q_ps_ueber, PS_verlust)\n",
    "df_2, df_ohne_2 = berechnen_wp.mit_hems_bsev(df_1, df_ohne, pv, battery_capacity, anlage_groesse, homeoffice)\n",
    "\n",
    "ergebnisse_hems_lev = berechnen_wp.ersparnis_hems_bsev(df_2, df_ohne_2, anlage_groesse, strompreis)"
   ]
  },
  {
   "cell_type": "markdown",
   "metadata": {},
   "source": [
    "## Wärmste Monat (August)"
   ]
  },
  {
   "cell_type": "code",
   "execution_count": null,
   "metadata": {},
   "outputs": [],
   "source": []
  }
 ],
 "metadata": {
  "kernelspec": {
   "display_name": "thesis_venv",
   "language": "python",
   "name": "python3"
  },
  "language_info": {
   "codemirror_mode": {
    "name": "ipython",
    "version": 3
   },
   "file_extension": ".py",
   "mimetype": "text/x-python",
   "name": "python",
   "nbconvert_exporter": "python",
   "pygments_lexer": "ipython3",
   "version": "3.12.3"
  }
 },
 "nbformat": 4,
 "nbformat_minor": 2
}
